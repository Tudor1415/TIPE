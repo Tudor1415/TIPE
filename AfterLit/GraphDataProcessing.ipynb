{
 "cells": [
  {
   "cell_type": "markdown",
   "id": "605f754e",
   "metadata": {},
   "source": [
    "## Objectifs\n",
    "Ce notebook est dedié à la mise en forme des données issues de la simulation SUMO afin de pouvoir être utilisées par les GNN (réseaux neuronaux sur graphs). L'objectif est de simuler la présence de détécteur moyenneurs de vitesse placés uniformémént sur le circuit routier.\n",
    "\n",
    "## Remarques sur les données\n",
    "Les données vierges provenant tout juste de la simulation sont en format JSON. Elles sont hiérarchisées selon l'indice de l'ittération suivi de l'indice de la voiture en question puis d'un triplet (vitesse, (abscisse, ordonnée)). Le problème de ce dernier triplet de coordonnées est leur origine. Lors de l'obtention de ces dernières SUMO utilise une origine arbitraire ce qui nous oblige à définir notre propre origine pour être en cohérence avec les coordonées de notre système.\n",
    "\n",
    "## Définition et placement des détécteurs\n",
    "Afin d'obtenir la vitesse moyenne des véhicules dans une zone spécifique, il faut compter les véhicules présents dans cette zonne, additionner leur vitesses puis calculer la vitesse moyenne. Comme précisé dans la séction \"Ojectifs\" les détécteurs doivent être placés uniformément sur le circuit routier. Pour cela on définit une longeur de secteur et un pas. On parcours l'entierté de la carte en sotant à chaque étape le pas définit puis si il y a assez de route présente dans le sécteur en question, on le garde. Ceci est achevé par la fonction **get_sectors**. Pour obtenir la vitesse moyenne des véhicules présent dans un sécteur, on a mis en place la fonction **get_sector_data** qui utilise à son tour la fonctoin **car_in_sector**\n"
   ]
  },
  {
   "cell_type": "code",
   "execution_count": 2,
   "id": "8e5e4554",
   "metadata": {},
   "outputs": [],
   "source": [
    "import sys\n",
    "import json\n",
    "import numpy as np\n",
    "import pickle\n",
    "from PIL import Image\n",
    "import matplotlib.pyplot as plt"
   ]
  },
  {
   "cell_type": "code",
   "execution_count": 3,
   "id": "77146f6c",
   "metadata": {},
   "outputs": [],
   "source": [
    "def remove_empty_timesteps(f) :\n",
    "\traw_data = json.load(f)\n",
    "\tdata = {k:v for k,v in raw_data.items() if v}\n",
    "\n",
    "\tjson_object = json.dumps(data, indent=4)\n",
    "\n",
    "\twith open(\"processed.json\", \"w\") as outfile:\n",
    "\t\toutfile.write(json_object)\n",
    "\n",
    "\treturn data"
   ]
  },
  {
   "cell_type": "code",
   "execution_count": 4,
   "id": "66aefa19",
   "metadata": {},
   "outputs": [],
   "source": [
    "def json_to_list(data) :\n",
    "\ttimesteps = []\n",
    "\tfor k,v in data.items() :\n",
    "\t\ttimestep = []\n",
    "\t\tfor k_car, car in v.items() :\n",
    "\t\t\ttimestep.append((car[0], car[1]))\n",
    "\t\tif len(timestep) > 0 :\n",
    "\t\t\ttimesteps.append(timestep)\n",
    "\treturn timesteps"
   ]
  },
  {
   "cell_type": "code",
   "execution_count": 5,
   "id": "0dbe4162",
   "metadata": {},
   "outputs": [],
   "source": [
    "def trace_routes(data, minc, shape = (200,200)) :\n",
    "\troute_map = np.zeros((int(np.floor(shape[0])), int(np.floor(shape[1]))))\n",
    "\tcentered_data = []\n",
    "\tprint(\"Starting route tracing.....\")\n",
    "\tfor ts in data :\n",
    "\t\tcentered_ts = []\n",
    "\t\tfor car in ts :\n",
    "\t\t\tcentered_ts.append((car[0], (car[1][0]-minc[0], car[1][1]-minc[1])))\n",
    "\t\t\tint_x = int(np.floor(car[1][0]-minc[0]))\n",
    "\t\t\tint_y = int(np.floor(car[1][1]-minc[1]))\n",
    "\t\t\troute_map[int_x][int_y+1] = 1\n",
    "\t\t\troute_map[int_x][int_y] = 1\n",
    "\t\t\troute_map[int_x][int_y-1] = 1\n",
    "\t\t\troute_map[int_x+1][int_y+1] = 1\n",
    "\t\t\troute_map[int_x+1][int_y] = 1\n",
    "\t\t\troute_map[int_x+1][int_y-1] = 1\n",
    "\t\t\troute_map[int_x-1][int_y+1] = 1\n",
    "\t\t\troute_map[int_x-1][int_y] = 1\n",
    "\t\t\troute_map[int_x-1][int_y-1] = 1\n",
    "\t\tcentered_data.append(centered_ts)\n",
    "\n",
    "\treturn route_map, centered_data"
   ]
  },
  {
   "cell_type": "code",
   "execution_count": 6,
   "id": "2add0906",
   "metadata": {},
   "outputs": [],
   "source": [
    "def car_in_sector(coord, x, y, sector_length) :\n",
    "\tif abs(coord[0] - x) <= sector_length and abs(coord[1] - y) <= sector_length :\n",
    "\t\t\treturn True\n",
    "\treturn False"
   ]
  },
  {
   "cell_type": "code",
   "execution_count": 7,
   "id": "67b9d04d",
   "metadata": {},
   "outputs": [],
   "source": [
    "def draw_car(sector, car) :\t\n",
    "\tint_x = int(car[1][0])\n",
    "\tint_y = int(car[1][1])  \n",
    "\tif int_x + 1 == sector.shape[0] or int_y + 1 == sector.shape[1] :\n",
    "\t\tsector[int_x][int_y] = 230\n",
    "\telse :\n",
    "\t\tsector[int_x][int_y+1] = 230\n",
    "\t\tsector[int_x][int_y] = 230\n",
    "\t\tsector[int_x][int_y-1] = 230\n",
    "\t\tsector[int_x+1][int_y+1] = 230\n",
    "\t\tsector[int_x+1][int_y] = 230\n",
    "\t\tsector[int_x+1][int_y-1] = 230\n",
    "\t\tsector[int_x-1][int_y+1] = 230\n",
    "\t\tsector[int_x-1][int_y] = 230\n",
    "\t\tsector[int_x-1][int_y-1] = 230\n",
    "\treturn sector"
   ]
  },
  {
   "cell_type": "code",
   "execution_count": 8,
   "id": "3fb2f6cd",
   "metadata": {},
   "outputs": [],
   "source": [
    "def draw_sectors(sector_map, x, y, sector_length, car=False) :\n",
    "\tfor i in range(-sector_length, sector_length):\n",
    "\t\tfor j in range(-sector_length, sector_length):\n",
    "\t\t\tif not(i == -sector_length or j == -sector_length or i == sector_length-1 or j == sector_length-1) :\n",
    "\t\t\t\tif car :\n",
    "\t\t\t\t\tsector_map[x+i,y+j] = 50\n",
    "\t\t\t\telse :\n",
    "\t\t\t\t\tsector_map[x+i,y+j] = 170\n",
    "\t\t\telse : \n",
    "\t\t\t\tsector_map[x+i,y+j] = 255\n",
    "\treturn sector_map"
   ]
  },
  {
   "cell_type": "code",
   "execution_count": 9,
   "id": "60c1f03d",
   "metadata": {},
   "outputs": [],
   "source": [
    "def get_sectors(route_map, sector_length, gap_x, gap_y) :\n",
    "\thorizontal = (route_map.shape[0]-2*sector_length) // (gap_x)\n",
    "\tvertical = (route_map.shape[1]-2*sector_length) // (gap_y)\n",
    "\tsector_map = np.zeros_like(route_map) \n",
    "\tsectors = []\n",
    "\ts_x = 0; s_y = 0;\n",
    "\tfor i in range(horizontal) :\n",
    "\t\tfor j in range(vertical) :\n",
    "\t\t\tx = (sector_length+gap_x)*i; y = (sector_length+gap_y)*j\n",
    "\t\t\tsector = route_map[-sector_length+x:sector_length+x, -sector_length+y:sector_length+y]\n",
    "\n",
    "\t\t\tif np.count_nonzero(sector)> 4*sector_length**2*0.1:\n",
    "\t\t\t\tsectors.append((x,y))\n",
    "\t\t\t\tsector_map = draw_sectors(sector_map, x, y, sector_length)\n",
    "\n",
    "\troute_map = np.multiply(sector_map, route_map)\n",
    "\timg = Image.fromarray(sector_map)\n",
    "\timg.save('images/sector_map.png')\n",
    "\treturn sectors, sector_map"
   ]
  },
  {
   "cell_type": "code",
   "execution_count": 24,
   "id": "cc4d8b44",
   "metadata": {},
   "outputs": [
    {
     "ename": "IndentationError",
     "evalue": "unindent does not match any outer indentation level (<tokenize>, line 12)",
     "output_type": "error",
     "traceback": [
      "\u001b[1;36m  File \u001b[1;32m\"<tokenize>\"\u001b[1;36m, line \u001b[1;32m12\u001b[0m\n\u001b[1;33m    cars_in_sector = cars_in_sector-1* np.ones_like(cars_in_sector[cars_in_sector])\u001b[0m\n\u001b[1;37m    ^\u001b[0m\n\u001b[1;31mIndentationError\u001b[0m\u001b[1;31m:\u001b[0m unindent does not match any outer indentation level\n"
     ]
    }
   ],
   "source": [
    "def get_sector_data(ts, sectors, sector_length):\n",
    "\taverage_speed = np.zeros((len(sectors),))\n",
    "\tcars_in_sector = np.zeros((len(sectors),))\n",
    "\tdetected = 0\n",
    "\tfor idx in range(len(sectors)) :\n",
    "\t\tfor car in ts :\n",
    "\t\t\tif car_in_sector(car[1], sectors[idx][0], sectors[idx][1], sector_length):\n",
    "\t\t\t\taverage_speed[idx] += car[0]\n",
    "\t\t\t\tcars_in_sector[idx] += 1\n",
    "\t\t\t\tdetected += 1\n",
    "\tprint(f\"Detected {detected} out of {len(ts)} cars !\")\n",
    "    cars_in_sector = cars_in_sector-1* np.ones_like(cars_in_sector[cars_in_sector])\n",
    "\taverage_speed = np.divide(average_speed, cars_in_sector)\n",
    "\treturn average_speed"
   ]
  },
  {
   "cell_type": "code",
   "execution_count": 11,
   "id": "60b940d1",
   "metadata": {},
   "outputs": [],
   "source": [
    "def color_sectors(ts, sector_map, sectors, sector_length):\n",
    "\tfor idx in range(len(sectors)) :\t\n",
    "\t\tfor car in ts :\n",
    "\t\t\tif car_in_sector(car[1], sectors[idx][0], sectors[idx][1], sector_length):\n",
    "\t\t\t\tsector_map = draw_sectors(sector_map, sectors[idx][0], sectors[idx][1], sector_length, car = True)\n",
    "\t\t\telse:\n",
    "\t\t\t \tsector_map = draw_car(sector_map, car)\n",
    "\timg = Image.fromarray(sector_map)\n",
    "\timg.save('images/car_sector_map.png')"
   ]
  },
  {
   "cell_type": "code",
   "execution_count": 12,
   "id": "8c897e4e",
   "metadata": {},
   "outputs": [
    {
     "name": "stdout",
     "output_type": "stream",
     "text": [
      "Starting route tracing.....\n"
     ]
    }
   ],
   "source": [
    "f = open(f'data.json')\n",
    "minc = (-53.11,2)\n",
    "data = remove_empty_timesteps(f)\n",
    "list_data = json_to_list(data)\n",
    "rmap, centered_data = trace_routes(list_data, minc = minc)\n",
    "rmap= (rmap* 255).astype(np.uint8)\n",
    "img = Image.fromarray(rmap)\n",
    "img.save('images/traced_routes.png')\n",
    "img.show()\n",
    "sector_length = 7\n",
    "step = 7\n",
    "sectors, sector_map = get_sectors(rmap, sector_length, step, step)"
   ]
  },
  {
   "cell_type": "code",
   "execution_count": 13,
   "id": "3106ad17",
   "metadata": {},
   "outputs": [],
   "source": [
    "def dist(sec1, sec2):\n",
    "    return np.sqrt((sec1[0]-sec2[0])**2 + (sec1[1]-sec2[1])**2)\n",
    "\n",
    "def get_graph(sectors, sector_length, step) :\n",
    "    graph = np.zeros((len(sectors), len(sectors)))\n",
    "    for i, sector in enumerate(sectors) :\n",
    "        for j, neigh in enumerate(sectors) :\n",
    "            if dist(sector, neigh) < step :\n",
    "                graph[i][j] = 1\n",
    "    \n",
    "    return graph"
   ]
  },
  {
   "cell_type": "code",
   "execution_count": 14,
   "id": "49f951b1",
   "metadata": {},
   "outputs": [
    {
     "name": "stdout",
     "output_type": "stream",
     "text": [
      "[(28, 14), (42, 14), (56, 14), (70, 14), (70, 28), (84, 28), (84, 42), (84, 56), (84, 70), (84, 84), (84, 98), (84, 112), (98, 28), (112, 28), (126, 14), (140, 14), (154, 14), (168, 14)]\n"
     ]
    }
   ],
   "source": [
    "print(sectors)"
   ]
  },
  {
   "cell_type": "code",
   "execution_count": 15,
   "id": "50958ba5",
   "metadata": {},
   "outputs": [
    {
     "data": {
      "text/plain": [
       "array([[1., 0., 0., 0., 0., 0., 0., 0., 0., 0., 0., 0., 0., 0., 0., 0.,\n",
       "        0., 0.],\n",
       "       [0., 1., 0., 0., 0., 0., 0., 0., 0., 0., 0., 0., 0., 0., 0., 0.,\n",
       "        0., 0.],\n",
       "       [0., 0., 1., 0., 0., 0., 0., 0., 0., 0., 0., 0., 0., 0., 0., 0.,\n",
       "        0., 0.],\n",
       "       [0., 0., 0., 1., 0., 0., 0., 0., 0., 0., 0., 0., 0., 0., 0., 0.,\n",
       "        0., 0.],\n",
       "       [0., 0., 0., 0., 1., 0., 0., 0., 0., 0., 0., 0., 0., 0., 0., 0.,\n",
       "        0., 0.],\n",
       "       [0., 0., 0., 0., 0., 1., 0., 0., 0., 0., 0., 0., 0., 0., 0., 0.,\n",
       "        0., 0.],\n",
       "       [0., 0., 0., 0., 0., 0., 1., 0., 0., 0., 0., 0., 0., 0., 0., 0.,\n",
       "        0., 0.],\n",
       "       [0., 0., 0., 0., 0., 0., 0., 1., 0., 0., 0., 0., 0., 0., 0., 0.,\n",
       "        0., 0.],\n",
       "       [0., 0., 0., 0., 0., 0., 0., 0., 1., 0., 0., 0., 0., 0., 0., 0.,\n",
       "        0., 0.],\n",
       "       [0., 0., 0., 0., 0., 0., 0., 0., 0., 1., 0., 0., 0., 0., 0., 0.,\n",
       "        0., 0.],\n",
       "       [0., 0., 0., 0., 0., 0., 0., 0., 0., 0., 1., 0., 0., 0., 0., 0.,\n",
       "        0., 0.],\n",
       "       [0., 0., 0., 0., 0., 0., 0., 0., 0., 0., 0., 1., 0., 0., 0., 0.,\n",
       "        0., 0.],\n",
       "       [0., 0., 0., 0., 0., 0., 0., 0., 0., 0., 0., 0., 1., 0., 0., 0.,\n",
       "        0., 0.],\n",
       "       [0., 0., 0., 0., 0., 0., 0., 0., 0., 0., 0., 0., 0., 1., 0., 0.,\n",
       "        0., 0.],\n",
       "       [0., 0., 0., 0., 0., 0., 0., 0., 0., 0., 0., 0., 0., 0., 1., 0.,\n",
       "        0., 0.],\n",
       "       [0., 0., 0., 0., 0., 0., 0., 0., 0., 0., 0., 0., 0., 0., 0., 1.,\n",
       "        0., 0.],\n",
       "       [0., 0., 0., 0., 0., 0., 0., 0., 0., 0., 0., 0., 0., 0., 0., 0.,\n",
       "        1., 0.],\n",
       "       [0., 0., 0., 0., 0., 0., 0., 0., 0., 0., 0., 0., 0., 0., 0., 0.,\n",
       "        0., 1.]])"
      ]
     },
     "execution_count": 15,
     "metadata": {},
     "output_type": "execute_result"
    }
   ],
   "source": [
    "get_graph(sectors, sector_length, step)"
   ]
  },
  {
   "cell_type": "code",
   "execution_count": 17,
   "id": "fcd43734",
   "metadata": {},
   "outputs": [
    {
     "name": "stdout",
     "output_type": "stream",
     "text": [
      "Detected 16 out of 21 cars !\n",
      "[0.         0.         0.         0.         0.         0.\n",
      " 3.79030785 5.48676463 0.         5.70830456 0.         5.94013526\n",
      " 3.09586938 4.51894798 0.         0.         6.33045009 0.        ]\n"
     ]
    }
   ],
   "source": [
    "img = color_sectors(centered_data[30], sector_map, sectors, sector_length)\n",
    "print(get_sector_data(centered_data, sectors, sector_length))"
   ]
  },
  {
   "cell_type": "code",
   "execution_count": 18,
   "id": "db466319",
   "metadata": {},
   "outputs": [
    {
     "ename": "IndexError",
     "evalue": "list index out of range",
     "output_type": "error",
     "traceback": [
      "\u001b[1;31m---------------------------------------------------------------------------\u001b[0m",
      "\u001b[1;31mIndexError\u001b[0m                                Traceback (most recent call last)",
      "\u001b[1;32m~\\AppData\\Local\\Temp\\ipykernel_22332\\2350003326.py\u001b[0m in \u001b[0;36m<module>\u001b[1;34m\u001b[0m\n\u001b[1;32m----> 1\u001b[1;33m \u001b[0mprint\u001b[0m\u001b[1;33m(\u001b[0m\u001b[0mget_sector_data\u001b[0m\u001b[1;33m(\u001b[0m\u001b[0mcentered_data\u001b[0m\u001b[1;33m,\u001b[0m \u001b[0msectors\u001b[0m\u001b[1;33m,\u001b[0m \u001b[0msector_length\u001b[0m\u001b[1;33m)\u001b[0m\u001b[1;33m)\u001b[0m\u001b[1;33m\u001b[0m\u001b[1;33m\u001b[0m\u001b[0m\n\u001b[0m\u001b[0;32m      2\u001b[0m \u001b[1;33m\u001b[0m\u001b[0m\n",
      "\u001b[1;32m~\\AppData\\Local\\Temp\\ipykernel_22332\\663904072.py\u001b[0m in \u001b[0;36mget_sector_data\u001b[1;34m(ts, sectors, sector_length)\u001b[0m\n\u001b[0;32m      5\u001b[0m         \u001b[1;32mfor\u001b[0m \u001b[0midx\u001b[0m \u001b[1;32min\u001b[0m \u001b[0mrange\u001b[0m\u001b[1;33m(\u001b[0m\u001b[0mlen\u001b[0m\u001b[1;33m(\u001b[0m\u001b[0msectors\u001b[0m\u001b[1;33m)\u001b[0m\u001b[1;33m)\u001b[0m \u001b[1;33m:\u001b[0m\u001b[1;33m\u001b[0m\u001b[1;33m\u001b[0m\u001b[0m\n\u001b[0;32m      6\u001b[0m                 \u001b[1;32mfor\u001b[0m \u001b[0mcar\u001b[0m \u001b[1;32min\u001b[0m \u001b[0mts\u001b[0m \u001b[1;33m:\u001b[0m\u001b[1;33m\u001b[0m\u001b[1;33m\u001b[0m\u001b[0m\n\u001b[1;32m----> 7\u001b[1;33m                         \u001b[1;32mif\u001b[0m \u001b[0mcar_in_sector\u001b[0m\u001b[1;33m(\u001b[0m\u001b[0mcar\u001b[0m\u001b[1;33m[\u001b[0m\u001b[1;36m1\u001b[0m\u001b[1;33m]\u001b[0m\u001b[1;33m,\u001b[0m \u001b[0msectors\u001b[0m\u001b[1;33m[\u001b[0m\u001b[0midx\u001b[0m\u001b[1;33m]\u001b[0m\u001b[1;33m[\u001b[0m\u001b[1;36m0\u001b[0m\u001b[1;33m]\u001b[0m\u001b[1;33m,\u001b[0m \u001b[0msectors\u001b[0m\u001b[1;33m[\u001b[0m\u001b[0midx\u001b[0m\u001b[1;33m]\u001b[0m\u001b[1;33m[\u001b[0m\u001b[1;36m1\u001b[0m\u001b[1;33m]\u001b[0m\u001b[1;33m,\u001b[0m \u001b[0msector_length\u001b[0m\u001b[1;33m)\u001b[0m\u001b[1;33m:\u001b[0m\u001b[1;33m\u001b[0m\u001b[1;33m\u001b[0m\u001b[0m\n\u001b[0m\u001b[0;32m      8\u001b[0m                                 \u001b[0maverage_speed\u001b[0m\u001b[1;33m[\u001b[0m\u001b[0midx\u001b[0m\u001b[1;33m]\u001b[0m \u001b[1;33m+=\u001b[0m \u001b[0mcar\u001b[0m\u001b[1;33m[\u001b[0m\u001b[1;36m0\u001b[0m\u001b[1;33m]\u001b[0m\u001b[1;33m\u001b[0m\u001b[1;33m\u001b[0m\u001b[0m\n\u001b[0;32m      9\u001b[0m                                 \u001b[0mcars_in_sector\u001b[0m\u001b[1;33m[\u001b[0m\u001b[0midx\u001b[0m\u001b[1;33m]\u001b[0m \u001b[1;33m+=\u001b[0m \u001b[1;36m1\u001b[0m\u001b[1;33m\u001b[0m\u001b[1;33m\u001b[0m\u001b[0m\n",
      "\u001b[1;31mIndexError\u001b[0m: list index out of range"
     ]
    }
   ],
   "source": [
    "def get_data(centered_data, sectors, sector_length):\n",
    "    X = []\n",
    "    Y = []\n",
    "    for data in centered_data : \n",
    "        v_avg = get_sector_data(centered_data[30], sectors, sector_length)\n",
    "        X.append(v_avg)\n",
    "        Y.append(v_avg[v_avg<3])\n",
    "        "
   ]
  },
  {
   "cell_type": "code",
   "execution_count": null,
   "id": "3790d7b8",
   "metadata": {},
   "outputs": [],
   "source": []
  }
 ],
 "metadata": {
  "kernelspec": {
   "display_name": "Python 3 (ipykernel)",
   "language": "python",
   "name": "python3"
  },
  "language_info": {
   "codemirror_mode": {
    "name": "ipython",
    "version": 3
   },
   "file_extension": ".py",
   "mimetype": "text/x-python",
   "name": "python",
   "nbconvert_exporter": "python",
   "pygments_lexer": "ipython3",
   "version": "3.7.3"
  }
 },
 "nbformat": 4,
 "nbformat_minor": 5
}
